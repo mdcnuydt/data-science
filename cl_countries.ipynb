{
 "cells": [
  {
   "cell_type": "markdown",
   "metadata": {},
   "source": [
    "# Intro"
   ]
  },
  {
   "cell_type": "markdown",
   "metadata": {},
   "source": [
    "Country_data.csv contains data about REITS of several countries. What countries have had comparible performance? To answer this question we will cluster these different countries."
   ]
  },
  {
   "cell_type": "markdown",
   "metadata": {},
   "source": [
    "# Analysis"
   ]
  },
  {
   "cell_type": "markdown",
   "metadata": {},
   "source": [
    "First, we'll read in the data, format it and express it as a percentage change."
   ]
  },
  {
   "cell_type": "code",
   "execution_count": 14,
   "metadata": {},
   "outputs": [
    {
     "name": "stdout",
     "output_type": "stream",
     "text": [
      "Period       1998-06-30  1998-09-30  1998-12-31  1999-03-31  1999-06-30  \\\n",
      "Switzerland   -0.002848   -0.003455   -0.009057    0.008783    0.000354   \n",
      "Colombia       0.033961   -0.011137   -0.013721   -0.003072   -0.002389   \n",
      "Denmark        0.041667    0.014003    0.015777    0.015536    0.015294   \n",
      "Hong Kong     -0.188897   -0.124444    0.061929   -0.027725    0.005900   \n",
      "Italy          0.010818    0.002020    0.000272   -0.002116    0.006418   \n",
      "\n",
      "Period       1999-09-30  1999-12-31  2000-03-31  2000-06-30  2000-09-30  ...  \\\n",
      "Switzerland   -0.003432    0.002414   -0.006587    0.016364    0.007226  ...   \n",
      "Colombia      -0.021642    0.016699    0.020745    0.027686   -0.031380  ...   \n",
      "Denmark        0.018833    0.001848    0.014762    0.027273    0.023007  ...   \n",
      "Hong Kong     -0.050831   -0.014418   -0.004180   -0.097587    0.025581  ...   \n",
      "Italy          0.004911    0.005609    0.014212    0.008485    0.013674  ...   \n",
      "\n",
      "Period       2017-09-30  2017-12-31  2018-03-31  2018-06-30  2018-09-30  \\\n",
      "Switzerland    0.004824    0.009214    0.001024   -0.001875    0.008391   \n",
      "Colombia       0.015941    0.002791    0.000961    0.057220   -0.000722   \n",
      "Denmark        0.005780   -0.006705    0.022180    0.018868   -0.001851   \n",
      "Hong Kong      0.013984    0.034918    0.049050    0.057027   -0.004347   \n",
      "Italy         -0.004016   -0.004032   -0.002024    0.006085   -0.008065   \n",
      "\n",
      "Period       2018-12-31  2019-03-31  2019-06-30  2019-09-30  2019-12-31  \n",
      "Switzerland   -0.008130    0.001131    0.000640    0.011422    0.000737  \n",
      "Colombia      -0.000919    0.024318    0.017629    0.017857   -0.006776  \n",
      "Denmark       -0.006494    0.012138    0.021218    0.006324   -0.007182  \n",
      "Hong Kong     -0.077042    0.053701    0.039609   -0.031242   -0.005768  \n",
      "Italy         -0.001016   -0.006104    0.014330   -0.003027   -0.002024  \n",
      "\n",
      "[5 rows x 87 columns]\n"
     ]
    }
   ],
   "source": [
    "import pandas as pd\n",
    "\n",
    "df = pd.read_csv('datasets/country_data.csv')\n",
    "df['Period'] = pd.to_datetime(df['Unnamed: 0'])\n",
    "df.set_index(df['Period'], inplace=True)\n",
    "df.drop(['Unnamed: 0', 'Period'], axis=1, inplace=True)\n",
    "df = df.pct_change().dropna().T\n",
    "\n",
    "print(df.head())"
   ]
  },
  {
   "cell_type": "markdown",
   "metadata": {},
   "source": [
    "To make sure the means are 0 and the variance identical we scale the data. As there are 87 features we will need to reduce the data to avoid the 'curse of dimensionality' through Principal Component Analysis. Let's first investigate to how many dimensions we can reduce the data without losing too much information."
   ]
  },
  {
   "cell_type": "code",
   "execution_count": 15,
   "metadata": {},
   "outputs": [],
   "source": [
    "from sklearn.preprocessing import StandardScaler\n",
    "\n",
    "ss = StandardScaler().fit_transform(df)\n",
    "ss = pd.DataFrame(ss, index=df.index, columns=df.columns)"
   ]
  },
  {
   "cell_type": "code",
   "execution_count": 16,
   "metadata": {},
   "outputs": [
    {
     "name": "stdout",
     "output_type": "stream",
     "text": [
      "1\t29.15%\n",
      "2\t43.88%\n",
      "3\t57.76%\n",
      "4\t68.68%\n",
      "5\t76.10%\n",
      "6\t81.68%\n",
      "7\t86.76%\n",
      "8\t91.22%\n",
      "9\t94.59%\n",
      "10\t96.53%\n",
      "11\t98.02%\n",
      "12\t99.29%\n",
      "13\t100.00%\n",
      "14\t100.00%\n"
     ]
    }
   ],
   "source": [
    "from sklearn.decomposition import PCA\n",
    "\n",
    "pca = PCA()\n",
    "pca.fit_transform(ss)\n",
    "pca_var = pca.explained_variance_\n",
    "\n",
    "for i in range(len(pca_var)):\n",
    "    print('%s\\t%.2f%%' % (i+1, 100*pca_var[0:i+1].sum()/pca_var.sum()))"
   ]
  },
  {
   "cell_type": "code",
   "execution_count": 17,
   "metadata": {},
   "outputs": [
    {
     "data": {
      "text/plain": [
       "<BarContainer object of 14 artists>"
      ]
     },
     "execution_count": 17,
     "metadata": {},
     "output_type": "execute_result"
    },
    {
     "data": {
      "image/png": "[encoded data removed]",
      "text/plain": [
       "<Figure size 576x432 with 1 Axes>"
      ]
     },
     "metadata": {},
     "output_type": "display_data"
    }
   ],
   "source": [
    "import matplotlib.pyplot as plt\n",
    "\n",
    "plt.figure(figsize=(8,6))\n",
    "plt.bar(range(1, len(pca_var)+1), pca_var)"
   ]
  },
  {
   "cell_type": "markdown",
   "metadata": {},
   "source": [
    "As we see from the data above, over 80% of the variance can be explained by reducing the number of components to 6. Let's do that now and draw a dendrogram to try and cluster the countries into three main groups."
   ]
  },
  {
   "cell_type": "code",
   "execution_count": 1,
   "metadata": {},
   "outputs": [
    {
     "ename": "NameError",
     "evalue": "name 'PCA' is not defined",
     "output_type": "error",
     "traceback": [
      "\u001b[0;31m---------------------------------------------------------------------------\u001b[0m",
      "\u001b[0;31mNameError\u001b[0m                                 Traceback (most recent call last)",
      "\u001b[0;32m<ipython-input-1-d3c40cd4eb51>\u001b[0m in \u001b[0;36m<module>\u001b[0;34m\u001b[0m\n\u001b[0;32m----> 1\u001b[0;31m \u001b[0mred\u001b[0m \u001b[0;34m=\u001b[0m \u001b[0mPCA\u001b[0m\u001b[0;34m(\u001b[0m\u001b[0mn_components\u001b[0m\u001b[0;34m=\u001b[0m\u001b[0;36m6\u001b[0m\u001b[0;34m)\u001b[0m\u001b[0;34m.\u001b[0m\u001b[0mfit_transform\u001b[0m\u001b[0;34m(\u001b[0m\u001b[0mss\u001b[0m\u001b[0;34m)\u001b[0m\u001b[0;34m\u001b[0m\u001b[0;34m\u001b[0m\u001b[0m\n\u001b[0m",
      "\u001b[0;31mNameError\u001b[0m: name 'PCA' is not defined"
     ]
    }
   ],
   "source": [
    "red = PCA(n_components=6).fit_transform(ss)"
   ]
  },
  {
   "cell_type": "code",
   "execution_count": 19,
   "metadata": {},
   "outputs": [
    {
     "data": {
      "image/png": "[encoded data removed]",
      "text/plain": [
       "<Figure size 720x504 with 1 Axes>"
      ]
     },
     "metadata": {},
     "output_type": "display_data"
    }
   ],
   "source": [
    "import scipy.cluster.hierarchy as shc \n",
    "\n",
    "plt.figure(figsize=(10,7))\n",
    "dend = shc.dendrogram(shc.linkage(red, method='ward'))\n",
    "plt.axhline(y=17.5, color='y', linestyle='--')\n",
    "plt.show()"
   ]
  },
  {
   "cell_type": "code",
   "execution_count": 11,
   "metadata": {},
   "outputs": [
    {
     "data": {
      "text/plain": [
       "Switzerland    2\n",
       "Colombia       0\n",
       "Denmark        2\n",
       "Hong Kong      1\n",
       "Italy          2\n",
       "Netherlands    2\n",
       "Norway         0\n",
       "New Zealand    2\n",
       "Sweden         2\n",
       "Singapore      0\n",
       "US             2\n",
       "Canada         2\n",
       "South Korea    2\n",
       "Portugal       2\n",
       "Name: cluster, dtype: int64"
      ]
     },
     "execution_count": 11,
     "metadata": {},
     "output_type": "execute_result"
    }
   ],
   "source": [
    "from sklearn.cluster import AgglomerativeClustering\n",
    "\n",
    "ward = AgglomerativeClustering(n_clusters=3, linkage='ward')\n",
    "ward.fit(red)\n",
    "ss['cluster'] = ward.labels_\n",
    "ss['cluster']"
   ]
  },
  {
   "cell_type": "markdown",
   "metadata": {},
   "source": [
    "# Conclusion\n",
    "\n",
    "As we can see most major economies are grouped together. Interestingly Norway is classified differently Denmark and other European countries and seems to be more similar to Singapore and Colombia. Hong Kong on the other hand is an entire category on its own. It would be interesting to further investigate why that is."
   ]
  }
 ],
 "metadata": {
  "kernelspec": {
   "display_name": "Python 3",
   "language": "python",
   "name": "python3"
  },
  "language_info": {
   "codemirror_mode": {
    "name": "ipython",
    "version": 3
   },
   "file_extension": ".py",
   "mimetype": "text/x-python",
   "name": "python",
   "nbconvert_exporter": "python",
   "pygments_lexer": "ipython3",
   "version": "3.9.2"
  }
 },
 "nbformat": 4,
 "nbformat_minor": 4
}
