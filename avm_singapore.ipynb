{
 "cells": [
  {
   "cell_type": "markdown",
   "metadata": {},
   "source": [
    "# Intro\n",
    "The goal of this notebook is to produce an automated valuation tool for Singapore. We make use of the data provided by the Urban Redevelopment Authority (URA)."
   ]
  },
  {
   "cell_type": "code",
   "execution_count": null,
   "metadata": {},
   "outputs": [],
   "source": [
    "import pandas as pd\n",
    "import numpy as np\n",
    "import statsmodels.api as sm\n",
    "\n",
    "if __name__ == '__main__':\n",
    "    dataset = pd.read_csv('datasets/singapore_ura.csv', index_col = 0)\n",
    "    y = dataset['log_price_psf']\n",
    "    \n",
    "    results_series_list = []\n",
    "    period_list = ['%sQ%s' % (year, qtr) for year in range(2017,2021) for qtr in range(1,5)]\n",
    "    period_list = period_list[:-2]\n",
    "\n",
    "    for start_index in range(0,len(period_list)+1-5):\n",
    "        window_period_list = period_list[start_index:start_index+5]\n",
    "\n",
    "        period_filter = dataset['Period_%s' % window_period_list[0]] == 1\n",
    "        for i in [1,2,3,4]:\n",
    "            period_filter = period_filter | (dataset['Period_%s' % window_period_list[i]] == 1)\n",
    "\n",
    "        y_target = y[period_filter]\n",
    "        X_target = dataset[period_filter]\n",
    "        X_columns = [c for c in dataset.columns if not c.startswith('Period_') and not c in ['log_price_psf']] + ['Period_%s' % period for period in window_period_list[1:5]]\n",
    "        X_target = X_target[X_columns]\n",
    "        X_target = sm.add_constant(X_target)\n",
    "\n",
    "        model = sm.OLS(y_target,X_target)\n",
    "        results = model.fit()\n",
    "\n",
    "        result_series = results.params\n",
    "        pvalue_series = results.pvalues\n",
    "        pvalue_series.index = ['pvalue_%s' % idx for idx in pvalue_series.index]\n",
    "        result_series = result_series.append(pvalue_series)\n",
    "        result_series = result_series.append(pd.Series([results.rsquared], index = ['rsquared']))\n",
    "        result_series = result_series.append(pd.Series([results.rsquared_adj], index = ['rsquared_adj']))\n",
    "        result_series = result_series.append(pd.Series([results.nobs], index = ['nobs']))\n",
    "\n",
    "        results_series_list.append(result_series)\n",
    "        results.save(\"rolling_%s.pkl\" % window_period_list[-1])\n",
    "\n",
    "    results_df = pd.concat(results_series_list,axis = 1)\n",
    "    results_df.columns = period_list[0:len(period_list)+1-5]\n",
    "    results_df.to_csv('rolling.csv')\n",
    "    print(\">>>saved to rolling.csv\")    \n",
    "\n",
    "    index_dict = {}\n",
    "    for start_index in range(0,len(period_list)+1-5):\n",
    "        window_period_list = period_list[start_index:start_index+5]\n",
    "        index_list = [100.0]\n",
    "        for i in [1,2,3,4]:\n",
    "            index_list.append(100.0 * np.exp(results_df[window_period_list[0]]['Period_%s' % window_period_list[i]]))    \n",
    "        index_dict[window_period_list[0]] = index_list\n",
    "\n",
    "    final_index_list = []\n",
    "    for period in sorted(index_dict.keys()):\n",
    "        if not len(final_index_list):\n",
    "            final_index_list = index_dict[period]\n",
    "        else:\n",
    "            new_index_value = index_dict[period][-1] * final_index_list[-1] / index_dict[period][-2]\n",
    "            final_index_list.append(new_index_value)\n",
    "\n",
    "    final_index_df = pd.DataFrame(final_index_list, index = period_list, columns = ['Index'])\n",
    "    final_index_df.to_csv('rolling_index.csv')\n",
    "    print(\">>>index saved to rolling_index.csv\")\n"
   ]
  }
 ],
 "metadata": {
  "kernelspec": {
   "display_name": "Python 3",
   "language": "python",
   "name": "python3"
  },
  "language_info": {
   "codemirror_mode": {
    "name": "ipython",
    "version": 3
   },
   "file_extension": ".py",
   "mimetype": "text/x-python",
   "name": "python",
   "nbconvert_exporter": "python",
   "pygments_lexer": "ipython3",
   "version": "3.9.1"
  }
 },
 "nbformat": 4,
 "nbformat_minor": 4
}
